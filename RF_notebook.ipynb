{
 "cells": [
  {
   "cell_type": "code",
   "execution_count": 1,
   "id": "15133996",
   "metadata": {
    "id": "15133996"
   },
   "outputs": [],
   "source": [
    "import pandas as pd\n",
    "import numpy as np\n",
    "import matplotlib.pyplot as plt\n",
    "%matplotlib inline\n",
    "import seaborn as sns\n",
    "\n",
    "import re\n",
    "import string\n",
    "import nltk\n",
    "from nltk.corpus import stopwords\n",
    "\n",
    "from sklearn.model_selection import train_test_split\n",
    "from sklearn.metrics import accuracy_score\n",
    "\n",
    "\n",
    "import pickle"
   ]
  },
  {
   "cell_type": "code",
   "execution_count": 31,
   "id": "f6fe315e",
   "metadata": {},
   "outputs": [
    {
     "name": "stdout",
     "output_type": "stream",
     "text": [
      "1.4.2\n",
      "1.21.5\n",
      "1.1.2\n",
      "0.29.28\n",
      "2.11.3\n",
      "1.1.1\n",
      "2.9.1\n",
      "3.7\n"
     ]
    }
   ],
   "source": [
    "from importlib_metadata import version\n",
    "print(version('pandas'))\n",
    "print(version('numpy'))\n",
    "print(version('flask'))\n",
    "print(version('cython'))\n",
    "print(version('jinja2'))\n",
    "print(version('scikit-learn'))\n",
    "print(version('tensorflow'))\n",
    "print(version('nltk'))"
   ]
  },
  {
   "cell_type": "code",
   "execution_count": 2,
   "id": "lyYTAydZK7q9",
   "metadata": {
    "colab": {
     "base_uri": "https://localhost:8080/"
    },
    "id": "lyYTAydZK7q9",
    "outputId": "509f7bc3-d21e-4e37-866b-38f2bb009293"
   },
   "outputs": [
    {
     "name": "stderr",
     "output_type": "stream",
     "text": [
      "[nltk_data] Downloading package stopwords to /root/nltk_data...\n",
      "[nltk_data]   Package stopwords is already up-to-date!\n",
      "[nltk_data] Downloading package wordnet to /root/nltk_data...\n",
      "[nltk_data]   Package wordnet is already up-to-date!\n",
      "[nltk_data] Downloading package punkt to /root/nltk_data...\n",
      "[nltk_data]   Package punkt is already up-to-date!\n",
      "[nltk_data] Downloading package omw-1.4 to /root/nltk_data...\n",
      "[nltk_data]   Package omw-1.4 is already up-to-date!\n",
      "[nltk_data] Downloading package words to /root/nltk_data...\n",
      "[nltk_data]   Package words is already up-to-date!\n"
     ]
    },
    {
     "data": {
      "text/plain": [
       "True"
      ]
     },
     "execution_count": 2,
     "metadata": {},
     "output_type": "execute_result"
    }
   ],
   "source": [
    "nltk.download('stopwords')\n",
    "nltk.download('wordnet')\n",
    "nltk.download('punkt')\n",
    "nltk.download('omw-1.4')\n",
    "nltk.download('words')"
   ]
  },
  {
   "cell_type": "code",
   "execution_count": 3,
   "id": "a22e219e",
   "metadata": {
    "id": "a22e219e"
   },
   "outputs": [],
   "source": [
    "df = pd.read_csv(\"train.csv\")"
   ]
  },
  {
   "cell_type": "code",
   "execution_count": 4,
   "id": "4a0cc976",
   "metadata": {
    "colab": {
     "base_uri": "https://localhost:8080/",
     "height": 206
    },
    "id": "4a0cc976",
    "outputId": "64504b4f-3543-4937-f59c-d0ff0b7f2055"
   },
   "outputs": [
    {
     "data": {
      "text/html": [
       "\n",
       "  <div id=\"df-7980ba52-e4d2-4377-bc4f-2fe6a9e082a8\">\n",
       "    <div class=\"colab-df-container\">\n",
       "      <div>\n",
       "<style scoped>\n",
       "    .dataframe tbody tr th:only-of-type {\n",
       "        vertical-align: middle;\n",
       "    }\n",
       "\n",
       "    .dataframe tbody tr th {\n",
       "        vertical-align: top;\n",
       "    }\n",
       "\n",
       "    .dataframe thead th {\n",
       "        text-align: right;\n",
       "    }\n",
       "</style>\n",
       "<table border=\"1\" class=\"dataframe\">\n",
       "  <thead>\n",
       "    <tr style=\"text-align: right;\">\n",
       "      <th></th>\n",
       "      <th>id</th>\n",
       "      <th>title</th>\n",
       "      <th>author</th>\n",
       "      <th>text</th>\n",
       "      <th>label</th>\n",
       "    </tr>\n",
       "  </thead>\n",
       "  <tbody>\n",
       "    <tr>\n",
       "      <th>0</th>\n",
       "      <td>0</td>\n",
       "      <td>House Dem Aide: We Didn’t Even See Comey’s Let...</td>\n",
       "      <td>Darrell Lucus</td>\n",
       "      <td>House Dem Aide: We Didn’t Even See Comey’s Let...</td>\n",
       "      <td>1</td>\n",
       "    </tr>\n",
       "    <tr>\n",
       "      <th>1</th>\n",
       "      <td>1</td>\n",
       "      <td>FLYNN: Hillary Clinton, Big Woman on Campus - ...</td>\n",
       "      <td>Daniel J. Flynn</td>\n",
       "      <td>Ever get the feeling your life circles the rou...</td>\n",
       "      <td>0</td>\n",
       "    </tr>\n",
       "    <tr>\n",
       "      <th>2</th>\n",
       "      <td>2</td>\n",
       "      <td>Why the Truth Might Get You Fired</td>\n",
       "      <td>Consortiumnews.com</td>\n",
       "      <td>Why the Truth Might Get You Fired October 29, ...</td>\n",
       "      <td>1</td>\n",
       "    </tr>\n",
       "    <tr>\n",
       "      <th>3</th>\n",
       "      <td>3</td>\n",
       "      <td>15 Civilians Killed In Single US Airstrike Hav...</td>\n",
       "      <td>Jessica Purkiss</td>\n",
       "      <td>Videos 15 Civilians Killed In Single US Airstr...</td>\n",
       "      <td>1</td>\n",
       "    </tr>\n",
       "    <tr>\n",
       "      <th>4</th>\n",
       "      <td>4</td>\n",
       "      <td>Iranian woman jailed for fictional unpublished...</td>\n",
       "      <td>Howard Portnoy</td>\n",
       "      <td>Print \\nAn Iranian woman has been sentenced to...</td>\n",
       "      <td>1</td>\n",
       "    </tr>\n",
       "  </tbody>\n",
       "</table>\n",
       "</div>\n",
       "      <button class=\"colab-df-convert\" onclick=\"convertToInteractive('df-7980ba52-e4d2-4377-bc4f-2fe6a9e082a8')\"\n",
       "              title=\"Convert this dataframe to an interactive table.\"\n",
       "              style=\"display:none;\">\n",
       "        \n",
       "  <svg xmlns=\"http://www.w3.org/2000/svg\" height=\"24px\"viewBox=\"0 0 24 24\"\n",
       "       width=\"24px\">\n",
       "    <path d=\"M0 0h24v24H0V0z\" fill=\"none\"/>\n",
       "    <path d=\"M18.56 5.44l.94 2.06.94-2.06 2.06-.94-2.06-.94-.94-2.06-.94 2.06-2.06.94zm-11 1L8.5 8.5l.94-2.06 2.06-.94-2.06-.94L8.5 2.5l-.94 2.06-2.06.94zm10 10l.94 2.06.94-2.06 2.06-.94-2.06-.94-.94-2.06-.94 2.06-2.06.94z\"/><path d=\"M17.41 7.96l-1.37-1.37c-.4-.4-.92-.59-1.43-.59-.52 0-1.04.2-1.43.59L10.3 9.45l-7.72 7.72c-.78.78-.78 2.05 0 2.83L4 21.41c.39.39.9.59 1.41.59.51 0 1.02-.2 1.41-.59l7.78-7.78 2.81-2.81c.8-.78.8-2.07 0-2.86zM5.41 20L4 18.59l7.72-7.72 1.47 1.35L5.41 20z\"/>\n",
       "  </svg>\n",
       "      </button>\n",
       "      \n",
       "  <style>\n",
       "    .colab-df-container {\n",
       "      display:flex;\n",
       "      flex-wrap:wrap;\n",
       "      gap: 12px;\n",
       "    }\n",
       "\n",
       "    .colab-df-convert {\n",
       "      background-color: #E8F0FE;\n",
       "      border: none;\n",
       "      border-radius: 50%;\n",
       "      cursor: pointer;\n",
       "      display: none;\n",
       "      fill: #1967D2;\n",
       "      height: 32px;\n",
       "      padding: 0 0 0 0;\n",
       "      width: 32px;\n",
       "    }\n",
       "\n",
       "    .colab-df-convert:hover {\n",
       "      background-color: #E2EBFA;\n",
       "      box-shadow: 0px 1px 2px rgba(60, 64, 67, 0.3), 0px 1px 3px 1px rgba(60, 64, 67, 0.15);\n",
       "      fill: #174EA6;\n",
       "    }\n",
       "\n",
       "    [theme=dark] .colab-df-convert {\n",
       "      background-color: #3B4455;\n",
       "      fill: #D2E3FC;\n",
       "    }\n",
       "\n",
       "    [theme=dark] .colab-df-convert:hover {\n",
       "      background-color: #434B5C;\n",
       "      box-shadow: 0px 1px 3px 1px rgba(0, 0, 0, 0.15);\n",
       "      filter: drop-shadow(0px 1px 2px rgba(0, 0, 0, 0.3));\n",
       "      fill: #FFFFFF;\n",
       "    }\n",
       "  </style>\n",
       "\n",
       "      <script>\n",
       "        const buttonEl =\n",
       "          document.querySelector('#df-7980ba52-e4d2-4377-bc4f-2fe6a9e082a8 button.colab-df-convert');\n",
       "        buttonEl.style.display =\n",
       "          google.colab.kernel.accessAllowed ? 'block' : 'none';\n",
       "\n",
       "        async function convertToInteractive(key) {\n",
       "          const element = document.querySelector('#df-7980ba52-e4d2-4377-bc4f-2fe6a9e082a8');\n",
       "          const dataTable =\n",
       "            await google.colab.kernel.invokeFunction('convertToInteractive',\n",
       "                                                     [key], {});\n",
       "          if (!dataTable) return;\n",
       "\n",
       "          const docLinkHtml = 'Like what you see? Visit the ' +\n",
       "            '<a target=\"_blank\" href=https://colab.research.google.com/notebooks/data_table.ipynb>data table notebook</a>'\n",
       "            + ' to learn more about interactive tables.';\n",
       "          element.innerHTML = '';\n",
       "          dataTable['output_type'] = 'display_data';\n",
       "          await google.colab.output.renderOutput(dataTable, element);\n",
       "          const docLink = document.createElement('div');\n",
       "          docLink.innerHTML = docLinkHtml;\n",
       "          element.appendChild(docLink);\n",
       "        }\n",
       "      </script>\n",
       "    </div>\n",
       "  </div>\n",
       "  "
      ],
      "text/plain": [
       "   id                                              title              author  \\\n",
       "0   0  House Dem Aide: We Didn’t Even See Comey’s Let...       Darrell Lucus   \n",
       "1   1  FLYNN: Hillary Clinton, Big Woman on Campus - ...     Daniel J. Flynn   \n",
       "2   2                  Why the Truth Might Get You Fired  Consortiumnews.com   \n",
       "3   3  15 Civilians Killed In Single US Airstrike Hav...     Jessica Purkiss   \n",
       "4   4  Iranian woman jailed for fictional unpublished...      Howard Portnoy   \n",
       "\n",
       "                                                text  label  \n",
       "0  House Dem Aide: We Didn’t Even See Comey’s Let...      1  \n",
       "1  Ever get the feeling your life circles the rou...      0  \n",
       "2  Why the Truth Might Get You Fired October 29, ...      1  \n",
       "3  Videos 15 Civilians Killed In Single US Airstr...      1  \n",
       "4  Print \\nAn Iranian woman has been sentenced to...      1  "
      ]
     },
     "execution_count": 4,
     "metadata": {},
     "output_type": "execute_result"
    }
   ],
   "source": [
    "df.head()"
   ]
  },
  {
   "cell_type": "code",
   "execution_count": 5,
   "id": "a62d6f2a",
   "metadata": {
    "colab": {
     "base_uri": "https://localhost:8080/"
    },
    "id": "a62d6f2a",
    "outputId": "c3c7cba6-48fb-48fe-e4ae-120eb569ee2f"
   },
   "outputs": [
    {
     "data": {
      "text/plain": [
       "(20800, 5)"
      ]
     },
     "execution_count": 5,
     "metadata": {},
     "output_type": "execute_result"
    }
   ],
   "source": [
    "df.shape   # print rows and columns in the dataframe"
   ]
  },
  {
   "cell_type": "code",
   "execution_count": 6,
   "id": "56d197c9",
   "metadata": {
    "colab": {
     "base_uri": "https://localhost:8080/"
    },
    "id": "56d197c9",
    "outputId": "9f16cba2-87b5-489d-96ca-7068e6ca4118"
   },
   "outputs": [
    {
     "name": "stdout",
     "output_type": "stream",
     "text": [
      "<class 'pandas.core.frame.DataFrame'>\n",
      "RangeIndex: 20800 entries, 0 to 20799\n",
      "Data columns (total 5 columns):\n",
      " #   Column  Non-Null Count  Dtype \n",
      "---  ------  --------------  ----- \n",
      " 0   id      20800 non-null  int64 \n",
      " 1   title   20242 non-null  object\n",
      " 2   author  18843 non-null  object\n",
      " 3   text    20761 non-null  object\n",
      " 4   label   20800 non-null  int64 \n",
      "dtypes: int64(2), object(3)\n",
      "memory usage: 812.6+ KB\n"
     ]
    }
   ],
   "source": [
    "df.info()  # print info of dataframe"
   ]
  },
  {
   "cell_type": "code",
   "execution_count": 7,
   "id": "3a456ac7",
   "metadata": {
    "colab": {
     "base_uri": "https://localhost:8080/"
    },
    "id": "3a456ac7",
    "outputId": "dc55fde0-1a06-4511-b8a0-02b0079ff410"
   },
   "outputs": [
    {
     "data": {
      "text/plain": [
       "id           0\n",
       "title      558\n",
       "author    1957\n",
       "text        39\n",
       "label        0\n",
       "dtype: int64"
      ]
     },
     "execution_count": 7,
     "metadata": {},
     "output_type": "execute_result"
    }
   ],
   "source": [
    "df.isnull().sum()     # checking for null values"
   ]
  },
  {
   "cell_type": "markdown",
   "id": "7444bab2",
   "metadata": {
    "id": "7444bab2"
   },
   "source": [
    "# EDA"
   ]
  },
  {
   "cell_type": "code",
   "execution_count": 8,
   "id": "54e0306b",
   "metadata": {
    "colab": {
     "base_uri": "https://localhost:8080/",
     "height": 36
    },
    "id": "54e0306b",
    "outputId": "8435e9f0-9ded-4b49-9c44-26af424fc344"
   },
   "outputs": [
    {
     "data": {
      "application/vnd.google.colaboratory.intrinsic+json": {
       "type": "string"
      },
      "text/plain": [
       "'House Dem Aide: We Didn’t Even See Comey’s Letter Until Jason Chaffetz Tweeted It'"
      ]
     },
     "execution_count": 8,
     "metadata": {},
     "output_type": "execute_result"
    }
   ],
   "source": [
    "df['title'][0]"
   ]
  },
  {
   "cell_type": "code",
   "execution_count": 9,
   "id": "b61ad8d4",
   "metadata": {
    "colab": {
     "base_uri": "https://localhost:8080/",
     "height": 165
    },
    "id": "b61ad8d4",
    "outputId": "852173ba-3ef4-448a-f77c-1e4d655f6979",
    "scrolled": true
   },
   "outputs": [
    {
     "data": {
      "application/vnd.google.colaboratory.intrinsic+json": {
       "type": "string"
      },
      "text/plain": [
       "'House Dem Aide: We Didn’t Even See Comey’s Letter Until Jason Chaffetz Tweeted It By Darrell Lucus on October 30, 2016 Subscribe Jason Chaffetz on the stump in American Fork, Utah ( image courtesy Michael Jolley, available under a Creative Commons-BY license) \\nWith apologies to Keith Olbermann, there is no doubt who the Worst Person in The World is this week–FBI Director James Comey. But according to a House Democratic aide, it looks like we also know who the second-worst person is as well. It turns out that when Comey sent his now-infamous letter announcing that the FBI was looking into emails that may be related to Hillary Clinton’s email server, the ranking Democrats on the relevant committees didn’t hear about it from Comey. They found out via a tweet from one of the Republican committee chairmen. \\nAs we now know, Comey notified the Republican chairmen and Democratic ranking members of the House Intelligence, Judiciary, and Oversight committees that his agency was reviewing emails it had recently discovered in order to see if they contained classified information. Not long after this letter went out, Oversight Committee Chairman Jason Chaffetz set the political world ablaze with this tweet. FBI Dir just informed me, \"The FBI has learned of the existence of emails that appear to be pertinent to the investigation.\" Case reopened \\n— Jason Chaffetz (@jasoninthehouse) October 28, 2016 \\nOf course, we now know that this was not the case . Comey was actually saying that it was reviewing the emails in light of “an unrelated case”–which we now know to be Anthony Weiner’s sexting with a teenager. But apparently such little things as facts didn’t matter to Chaffetz. The Utah Republican had already vowed to initiate a raft of investigations if Hillary wins–at least two years’ worth, and possibly an entire term’s worth of them. Apparently Chaffetz thought the FBI was already doing his work for him–resulting in a tweet that briefly roiled the nation before cooler heads realized it was a dud. \\nBut according to a senior House Democratic aide, misreading that letter may have been the least of Chaffetz’ sins. That aide told Shareblue that his boss and other Democrats didn’t even know about Comey’s letter at the time–and only found out when they checked Twitter. “Democratic Ranking Members on the relevant committees didn’t receive Comey’s letter until after the Republican Chairmen. In fact, the Democratic Ranking Members didn’ receive it until after the Chairman of the Oversight and Government Reform Committee, Jason Chaffetz, tweeted it out and made it public.” \\nSo let’s see if we’ve got this right. The FBI director tells Chaffetz and other GOP committee chairmen about a major development in a potentially politically explosive investigation, and neither Chaffetz nor his other colleagues had the courtesy to let their Democratic counterparts know about it. Instead, according to this aide, he made them find out about it on Twitter. \\nThere has already been talk on Daily Kos that Comey himself provided advance notice of this letter to Chaffetz and other Republicans, giving them time to turn on the spin machine. That may make for good theater, but there is nothing so far that even suggests this is the case. After all, there is nothing so far that suggests that Comey was anything other than grossly incompetent and tone-deaf. \\nWhat it does suggest, however, is that Chaffetz is acting in a way that makes Dan Burton and Darrell Issa look like models of responsibility and bipartisanship. He didn’t even have the decency to notify ranking member Elijah Cummings about something this explosive. If that doesn’t trample on basic standards of fairness, I don’t know what does. \\nGranted, it’s not likely that Chaffetz will have to answer for this. He sits in a ridiculously Republican district anchored in Provo and Orem; it has a Cook Partisan Voting Index of R+25, and gave Mitt Romney a punishing 78 percent of the vote in 2012. Moreover, the Republican House leadership has given its full support to Chaffetz’ planned fishing expedition. But that doesn’t mean we can’t turn the hot lights on him. After all, he is a textbook example of what the House has become under Republican control. And he is also the Second Worst Person in the World. About Darrell Lucus \\nDarrell is a 30-something graduate of the University of North Carolina who considers himself a journalist of the old school. An attempt to turn him into a member of the religious right in college only succeeded in turning him into the religious right\\'s worst nightmare--a charismatic Christian who is an unapologetic liberal. His desire to stand up for those who have been scared into silence only increased when he survived an abusive three-year marriage. You may know him on Daily Kos as Christian Dem in NC . Follow him on Twitter @DarrellLucus or connect with him on Facebook . Click here to buy Darrell a Mello Yello. Connect'"
      ]
     },
     "execution_count": 9,
     "metadata": {},
     "output_type": "execute_result"
    }
   ],
   "source": [
    "df['text'][0]"
   ]
  },
  {
   "cell_type": "code",
   "execution_count": 10,
   "id": "d241a23a",
   "metadata": {
    "colab": {
     "base_uri": "https://localhost:8080/"
    },
    "id": "d241a23a",
    "outputId": "eb035251-b4e0-42ef-86c5-244bb4d9ed86"
   },
   "outputs": [
    {
     "data": {
      "text/plain": [
       "1    10413\n",
       "0    10387\n",
       "Name: label, dtype: int64"
      ]
     },
     "execution_count": 10,
     "metadata": {},
     "output_type": "execute_result"
    }
   ],
   "source": [
    "df['label'].value_counts()   # checking the distribution of sentiments"
   ]
  },
  {
   "cell_type": "code",
   "execution_count": 11,
   "id": "675c7d81",
   "metadata": {
    "colab": {
     "base_uri": "https://localhost:8080/",
     "height": 297
    },
    "id": "675c7d81",
    "outputId": "b0329b3a-0b8a-4497-b167-b6f2de9271b1"
   },
   "outputs": [
    {
     "data": {
      "text/plain": [
       "<matplotlib.axes._subplots.AxesSubplot at 0x7ff4bac55b50>"
      ]
     },
     "execution_count": 11,
     "metadata": {},
     "output_type": "execute_result"
    },
    {
     "data": {
      "image/png": "[encoded data removed]",
      "text/plain": [
       "<Figure size 432x288 with 1 Axes>"
      ]
     },
     "metadata": {
      "needs_background": "light"
     },
     "output_type": "display_data"
    }
   ],
   "source": [
    "# checking the distribution of sentiments\n",
    "\n",
    "sns.countplot(x = df['label'])"
   ]
  },
  {
   "cell_type": "markdown",
   "id": "6dfb3895",
   "metadata": {
    "id": "6dfb3895"
   },
   "source": [
    "# Preprocess"
   ]
  },
  {
   "cell_type": "code",
   "execution_count": 12,
   "id": "8df36309",
   "metadata": {
    "id": "8df36309"
   },
   "outputs": [],
   "source": [
    "_duplicates = df[df.duplicated(['text'], keep=False)]\n",
    "non_duplicate_df = df.drop(_duplicates.index)"
   ]
  },
  {
   "cell_type": "code",
   "execution_count": 13,
   "id": "23fa7588",
   "metadata": {
    "id": "23fa7588"
   },
   "outputs": [],
   "source": [
    "all_punctuations = string.punctuation + '‘’,:”][],'\n",
    "\n",
    "nltk_words = set(nltk.corpus.words.words())\n",
    "\n",
    "def preprocess(text):\n",
    "    text = text.lower() # lowercase every document\n",
    "\n",
    "    text = \"\".join(re.sub(r\"http\\S+\", \"\", text, flags=re.IGNORECASE))   # remove URLs\n",
    "    text = \"\".join(re.sub(r\"[@[a-zA-Z]+:]*\", \"\", text, flags=re.IGNORECASE)) # remove patterns like --> @warriorwoman:\n",
    "    text = \"\".join(re.sub(r\"[@[a-zA-Z]+_]*\", \"\", text, flags=re.IGNORECASE)) # remove patterns like --> @warriorwoman_:\n",
    "    text = \"\".join(re.sub(r\"w/ @[a-zA_Z]*\", \"\", text, flags=re.IGNORECASE)) # remove patterns like --> w/ @realDonaldTrump\n",
    "    text = \"\".join(re.sub(r\"[@[a-zA-Z\\d]+:]*\", \"\", text, flags=re.IGNORECASE)) # remove patterns like --> @warriorwoman91:\n",
    "    text = \"\".join(re.sub(r\"[@[a-zA-Z\\d]+_]*\", \"\", text, flags=re.IGNORECASE)) # remove patterns like --> @warriorwoman91_:\n",
    "    text = \"\".join(re.sub(r\"[0-9]*\", \"\", text, flags = re.IGNORECASE))  # remove numbers\n",
    "    text = \"\".join(re.sub('(\\n|\\r|\\xa0)', \"\", text, flags = re.IGNORECASE))  # remove escape characters\n",
    "    text = \"\".join(re.sub('(\\[.\\])', \"\", text, flags = re.IGNORECASE))  # remove patterns like [...]\n",
    "    text = \"\".join(re.sub(r\"[0-9]*\", \"\", text, flags = re.IGNORECASE))  # remove numbers\n",
    "    text = \"\".join(re.sub(r\"( \\w )*\", \"\", text, flags = re.IGNORECASE)) # remove single characters\n",
    "    \n",
    "    \n",
    "    no_punct = \"\".join([i for i in text if i not in all_punctuations])  # removing all punctuations\n",
    "    \n",
    "    words = no_punct.split()                   # splitting all the words\n",
    "    no_stop_words = \" \".join([i for i in words if i not in stopwords.words('english')])  # removing stop words\n",
    "    \n",
    "    lemmer = nltk.stem.WordNetLemmatizer()    # instanctiate the lemmatizer\n",
    "    return \" \".join([lemmer.lemmatize(word,'v') for word in no_stop_words.split()]) # lemmatize the words in the data"
   ]
  },
  {
   "cell_type": "code",
   "execution_count": null,
   "id": "c037c3ca",
   "metadata": {
    "id": "c037c3ca"
   },
   "outputs": [],
   "source": [
    "non_duplicate_df['PreprocessText'] = non_duplicate_df['text'].apply(lambda x: preprocess(x))"
   ]
  },
  {
   "cell_type": "code",
   "execution_count": null,
   "id": "816890d0",
   "metadata": {
    "id": "816890d0"
   },
   "outputs": [],
   "source": [
    "non_duplicate_df.to_csv('Preprocessed.csv', index = False)"
   ]
  },
  {
   "cell_type": "markdown",
   "id": "62268fb7",
   "metadata": {
    "id": "62268fb7"
   },
   "source": [
    "# Text Cleaning"
   ]
  },
  {
   "cell_type": "code",
   "execution_count": 3,
   "id": "njkbT0z_JbRT",
   "metadata": {
    "id": "njkbT0z_JbRT"
   },
   "outputs": [],
   "source": [
    "non_duplicate_df = pd.read_csv('Preprocessed.csv')"
   ]
  },
  {
   "cell_type": "code",
   "execution_count": 4,
   "id": "bsu3WF5aPzzb",
   "metadata": {
    "id": "bsu3WF5aPzzb"
   },
   "outputs": [],
   "source": [
    "non_duplicate_df['PreprocessText'] = non_duplicate_df['PreprocessText'].astype(str)"
   ]
  },
  {
   "cell_type": "code",
   "execution_count": 5,
   "id": "7f353544",
   "metadata": {
    "id": "7f353544"
   },
   "outputs": [],
   "source": [
    "# Get the count of words in each tweet and store in a new column\n",
    "\n",
    "#non_duplicate_df['word_count'] = non_duplicate_df['PreprocessText'].apply(lambda x: sum([i.strip(string.punctuation).isalpha() for i in x.split()]))\n",
    "non_duplicate_df['word_count'] = non_duplicate_df['PreprocessText'].apply(lambda x: len(x))"
   ]
  },
  {
   "cell_type": "code",
   "execution_count": 6,
   "id": "b5b2ca05",
   "metadata": {
    "colab": {
     "base_uri": "https://localhost:8080/",
     "height": 337
    },
    "id": "b5b2ca05",
    "outputId": "136a22fd-b7ac-4767-ffdb-37c756310668"
   },
   "outputs": [
    {
     "data": {
      "text/html": [
       "<div>\n",
       "<style scoped>\n",
       "    .dataframe tbody tr th:only-of-type {\n",
       "        vertical-align: middle;\n",
       "    }\n",
       "\n",
       "    .dataframe tbody tr th {\n",
       "        vertical-align: top;\n",
       "    }\n",
       "\n",
       "    .dataframe thead th {\n",
       "        text-align: right;\n",
       "    }\n",
       "</style>\n",
       "<table border=\"1\" class=\"dataframe\">\n",
       "  <thead>\n",
       "    <tr style=\"text-align: right;\">\n",
       "      <th></th>\n",
       "      <th>id</th>\n",
       "      <th>title</th>\n",
       "      <th>author</th>\n",
       "      <th>text</th>\n",
       "      <th>label</th>\n",
       "      <th>PreprocessText</th>\n",
       "      <th>word_count</th>\n",
       "    </tr>\n",
       "  </thead>\n",
       "  <tbody>\n",
       "    <tr>\n",
       "      <th>0</th>\n",
       "      <td>0</td>\n",
       "      <td>House Dem Aide: We Didn’t Even See Comey’s Let...</td>\n",
       "      <td>Darrell Lucus</td>\n",
       "      <td>House Dem Aide: We Didn’t Even See Comey’s Let...</td>\n",
       "      <td>1</td>\n",
       "      <td>house dem didnt even see comeys letter jason c...</td>\n",
       "      <td>3247</td>\n",
       "    </tr>\n",
       "    <tr>\n",
       "      <th>1</th>\n",
       "      <td>1</td>\n",
       "      <td>FLYNN: Hillary Clinton, Big Woman on Campus - ...</td>\n",
       "      <td>Daniel J. Flynn</td>\n",
       "      <td>Ever get the feeling your life circles the rou...</td>\n",
       "      <td>0</td>\n",
       "      <td>ever get feel life circle roundabout rather he...</td>\n",
       "      <td>2705</td>\n",
       "    </tr>\n",
       "    <tr>\n",
       "      <th>2</th>\n",
       "      <td>2</td>\n",
       "      <td>Why the Truth Might Get You Fired</td>\n",
       "      <td>Consortiumnews.com</td>\n",
       "      <td>Why the Truth Might Get You Fired October 29, ...</td>\n",
       "      <td>1</td>\n",
       "      <td>truth might get fire october tension intellige...</td>\n",
       "      <td>5112</td>\n",
       "    </tr>\n",
       "    <tr>\n",
       "      <th>3</th>\n",
       "      <td>3</td>\n",
       "      <td>15 Civilians Killed In Single US Airstrike Hav...</td>\n",
       "      <td>Jessica Purkiss</td>\n",
       "      <td>Videos 15 Civilians Killed In Single US Airstr...</td>\n",
       "      <td>1</td>\n",
       "      <td>videos civilians kill single us airstrike iden...</td>\n",
       "      <td>2127</td>\n",
       "    </tr>\n",
       "    <tr>\n",
       "      <th>4</th>\n",
       "      <td>4</td>\n",
       "      <td>Iranian woman jailed for fictional unpublished...</td>\n",
       "      <td>Howard Portnoy</td>\n",
       "      <td>Print \\nAn Iranian woman has been sentenced to...</td>\n",
       "      <td>1</td>\n",
       "      <td>print iranian woman sentence six years prison ...</td>\n",
       "      <td>661</td>\n",
       "    </tr>\n",
       "  </tbody>\n",
       "</table>\n",
       "</div>"
      ],
      "text/plain": [
       "   id                                              title              author  \\\n",
       "0   0  House Dem Aide: We Didn’t Even See Comey’s Let...       Darrell Lucus   \n",
       "1   1  FLYNN: Hillary Clinton, Big Woman on Campus - ...     Daniel J. Flynn   \n",
       "2   2                  Why the Truth Might Get You Fired  Consortiumnews.com   \n",
       "3   3  15 Civilians Killed In Single US Airstrike Hav...     Jessica Purkiss   \n",
       "4   4  Iranian woman jailed for fictional unpublished...      Howard Portnoy   \n",
       "\n",
       "                                                text  label  \\\n",
       "0  House Dem Aide: We Didn’t Even See Comey’s Let...      1   \n",
       "1  Ever get the feeling your life circles the rou...      0   \n",
       "2  Why the Truth Might Get You Fired October 29, ...      1   \n",
       "3  Videos 15 Civilians Killed In Single US Airstr...      1   \n",
       "4  Print \\nAn Iranian woman has been sentenced to...      1   \n",
       "\n",
       "                                      PreprocessText  word_count  \n",
       "0  house dem didnt even see comeys letter jason c...        3247  \n",
       "1  ever get feel life circle roundabout rather he...        2705  \n",
       "2  truth might get fire october tension intellige...        5112  \n",
       "3  videos civilians kill single us airstrike iden...        2127  \n",
       "4  print iranian woman sentence six years prison ...         661  "
      ]
     },
     "execution_count": 6,
     "metadata": {},
     "output_type": "execute_result"
    }
   ],
   "source": [
    "non_duplicate_df.head()"
   ]
  },
  {
   "cell_type": "code",
   "execution_count": 7,
   "id": "1aa5824f",
   "metadata": {
    "colab": {
     "base_uri": "https://localhost:8080/",
     "height": 314
    },
    "id": "1aa5824f",
    "outputId": "b7d00742-ade4-41ad-d8ab-d9491f5987ea"
   },
   "outputs": [
    {
     "data": {
      "text/plain": [
       "Text(0.5, 1.0, 'Distribution of number of tokens in tweets')"
      ]
     },
     "execution_count": 7,
     "metadata": {},
     "output_type": "execute_result"
    },
    {
     "data": {
      "image/png": "[encoded data removed]",
      "text/plain": [
       "<Figure size 432x288 with 1 Axes>"
      ]
     },
     "metadata": {
      "needs_background": "light"
     },
     "output_type": "display_data"
    }
   ],
   "source": [
    "# checking for outliers \n",
    "\n",
    "sns.boxplot(x=non_duplicate_df['word_count'])\n",
    "plt.title(('Distribution of number of tokens in tweets'))"
   ]
  },
  {
   "cell_type": "code",
   "execution_count": 8,
   "id": "1hhk0oQTLuqx",
   "metadata": {
    "colab": {
     "base_uri": "https://localhost:8080/",
     "height": 406
    },
    "id": "1hhk0oQTLuqx",
    "outputId": "f2c154c9-a539-4462-8f9a-42be2abce1e9"
   },
   "outputs": [
    {
     "data": {
      "text/plain": [
       "<seaborn.axisgrid.FacetGrid at 0x1d900798fa0>"
      ]
     },
     "execution_count": 8,
     "metadata": {},
     "output_type": "execute_result"
    },
    {
     "data": {
      "text/plain": [
       "<Figure size 720x720 with 0 Axes>"
      ]
     },
     "metadata": {},
     "output_type": "display_data"
    },
    {
     "data": {
      "image/png": "[encoded data removed]",
      "text/plain": [
       "<Figure size 360x360 with 1 Axes>"
      ]
     },
     "metadata": {
      "needs_background": "light"
     },
     "output_type": "display_data"
    }
   ],
   "source": [
    "fig = plt.figure(figsize=(10,10))\n",
    "sns.displot(x = non_duplicate_df['word_count'], kde=True)   # distributions of all the words"
   ]
  },
  {
   "cell_type": "code",
   "execution_count": 9,
   "id": "dsSfGOmuLxiO",
   "metadata": {
    "colab": {
     "base_uri": "https://localhost:8080/"
    },
    "id": "dsSfGOmuLxiO",
    "outputId": "afe49615-e6fc-4d33-ada8-0d1bb91f0a4d"
   },
   "outputs": [
    {
     "name": "stdout",
     "output_type": "stream",
     "text": [
      "131406\n",
      "1\n"
     ]
    }
   ],
   "source": [
    "print(non_duplicate_df['word_count'].max())  # max words in doc\n",
    "print(non_duplicate_df['word_count'].min())  # min words in doc"
   ]
  },
  {
   "cell_type": "code",
   "execution_count": 10,
   "id": "XlL8AfycL1HS",
   "metadata": {
    "id": "XlL8AfycL1HS"
   },
   "outputs": [],
   "source": [
    "non_duplicate_df = non_duplicate_df[non_duplicate_df['word_count']<20000]   # filter rows with words less than 20000, and store them"
   ]
  },
  {
   "cell_type": "code",
   "execution_count": 11,
   "id": "zsrRHVcfL4P4",
   "metadata": {
    "colab": {
     "base_uri": "https://localhost:8080/",
     "height": 406
    },
    "id": "zsrRHVcfL4P4",
    "outputId": "d134b6f5-1c0d-4542-9d4e-08f5e2c4ea58"
   },
   "outputs": [
    {
     "data": {
      "text/plain": [
       "<seaborn.axisgrid.FacetGrid at 0x1d907b680a0>"
      ]
     },
     "execution_count": 11,
     "metadata": {},
     "output_type": "execute_result"
    },
    {
     "data": {
      "text/plain": [
       "<Figure size 720x720 with 0 Axes>"
      ]
     },
     "metadata": {},
     "output_type": "display_data"
    },
    {
     "data": {
      "image/png": "[encoded data removed]",
      "text/plain": [
       "<Figure size 360x360 with 1 Axes>"
      ]
     },
     "metadata": {
      "needs_background": "light"
     },
     "output_type": "display_data"
    }
   ],
   "source": [
    "fig = plt.figure(figsize=(10,10))\n",
    "sns.displot(x = non_duplicate_df['word_count'], kde=True)   # distributions of all the words"
   ]
  },
  {
   "cell_type": "code",
   "execution_count": 12,
   "id": "XQaMCj09L79B",
   "metadata": {
    "colab": {
     "base_uri": "https://localhost:8080/"
    },
    "id": "XQaMCj09L79B",
    "outputId": "0b10736b-21eb-462d-eaa9-c9eee97e0636"
   },
   "outputs": [
    {
     "data": {
      "text/plain": [
       "(array([9079, 5674, 3603, 1014,  355,  176,   89,   58,   61,   26],\n",
       "       dtype=int64),\n",
       " array([1.00000e+00, 1.99970e+03, 3.99840e+03, 5.99710e+03, 7.99580e+03,\n",
       "        9.99450e+03, 1.19932e+04, 1.39919e+04, 1.59906e+04, 1.79893e+04,\n",
       "        1.99880e+04]))"
      ]
     },
     "execution_count": 12,
     "metadata": {},
     "output_type": "execute_result"
    }
   ],
   "source": [
    "count, division = np.histogram(non_duplicate_df['word_count'])\n",
    "count, division"
   ]
  },
  {
   "cell_type": "markdown",
   "id": "1c00929f",
   "metadata": {},
   "source": [
    "# Random Forest Classifier"
   ]
  },
  {
   "cell_type": "code",
   "execution_count": 20,
   "id": "7aa325c1",
   "metadata": {},
   "outputs": [],
   "source": [
    "from sklearn.ensemble import RandomForestClassifier\n",
    "from sklearn.feature_extraction.text import TfidfVectorizer\n",
    "\n",
    "from sklearn.metrics import accuracy_score, confusion_matrix, ConfusionMatrixDisplay, classification_report"
   ]
  },
  {
   "cell_type": "code",
   "execution_count": 14,
   "id": "161c3f36",
   "metadata": {},
   "outputs": [],
   "source": [
    "sentence_list = non_duplicate_df['PreprocessText'].tolist()"
   ]
  },
  {
   "cell_type": "code",
   "execution_count": 15,
   "id": "cb3051a7",
   "metadata": {},
   "outputs": [],
   "source": [
    "tfidf = TfidfVectorizer(max_features = 3000)\n",
    "sentence_vectors = tfidf.fit_transform(sentence_list).toarray()"
   ]
  },
  {
   "cell_type": "code",
   "execution_count": 16,
   "id": "8df520c5",
   "metadata": {},
   "outputs": [
    {
     "data": {
      "text/plain": [
       "array([[0., 0., 0., ..., 0., 0., 0.],\n",
       "       [0., 0., 0., ..., 0., 0., 0.],\n",
       "       [0., 0., 0., ..., 0., 0., 0.],\n",
       "       ...,\n",
       "       [0., 0., 0., ..., 0., 0., 0.],\n",
       "       [0., 0., 0., ..., 0., 0., 0.],\n",
       "       [0., 0., 0., ..., 0., 0., 0.]])"
      ]
     },
     "execution_count": 16,
     "metadata": {},
     "output_type": "execute_result"
    }
   ],
   "source": [
    "sentence_vectors"
   ]
  },
  {
   "cell_type": "code",
   "execution_count": 17,
   "id": "6cb563ed",
   "metadata": {},
   "outputs": [],
   "source": [
    "X_train, X_test, y_train, y_test = train_test_split(sentence_vectors, np.asarray(non_duplicate_df['label']), test_size=0.2, random_state=42)"
   ]
  },
  {
   "cell_type": "code",
   "execution_count": 18,
   "id": "bc7828a3",
   "metadata": {},
   "outputs": [
    {
     "data": {
      "text/html": [
       "<style>#sk-container-id-1 {color: black;background-color: white;}#sk-container-id-1 pre{padding: 0;}#sk-container-id-1 div.sk-toggleable {background-color: white;}#sk-container-id-1 label.sk-toggleable__label {cursor: pointer;display: block;width: 100%;margin-bottom: 0;padding: 0.3em;box-sizing: border-box;text-align: center;}#sk-container-id-1 label.sk-toggleable__label-arrow:before {content: \"▸\";float: left;margin-right: 0.25em;color: #696969;}#sk-container-id-1 label.sk-toggleable__label-arrow:hover:before {color: black;}#sk-container-id-1 div.sk-estimator:hover label.sk-toggleable__label-arrow:before {color: black;}#sk-container-id-1 div.sk-toggleable__content {max-height: 0;max-width: 0;overflow: hidden;text-align: left;background-color: #f0f8ff;}#sk-container-id-1 div.sk-toggleable__content pre {margin: 0.2em;color: black;border-radius: 0.25em;background-color: #f0f8ff;}#sk-container-id-1 input.sk-toggleable__control:checked~div.sk-toggleable__content {max-height: 200px;max-width: 100%;overflow: auto;}#sk-container-id-1 input.sk-toggleable__control:checked~label.sk-toggleable__label-arrow:before {content: \"▾\";}#sk-container-id-1 div.sk-estimator input.sk-toggleable__control:checked~label.sk-toggleable__label {background-color: #d4ebff;}#sk-container-id-1 div.sk-label input.sk-toggleable__control:checked~label.sk-toggleable__label {background-color: #d4ebff;}#sk-container-id-1 input.sk-hidden--visually {border: 0;clip: rect(1px 1px 1px 1px);clip: rect(1px, 1px, 1px, 1px);height: 1px;margin: -1px;overflow: hidden;padding: 0;position: absolute;width: 1px;}#sk-container-id-1 div.sk-estimator {font-family: monospace;background-color: #f0f8ff;border: 1px dotted black;border-radius: 0.25em;box-sizing: border-box;margin-bottom: 0.5em;}#sk-container-id-1 div.sk-estimator:hover {background-color: #d4ebff;}#sk-container-id-1 div.sk-parallel-item::after {content: \"\";width: 100%;border-bottom: 1px solid gray;flex-grow: 1;}#sk-container-id-1 div.sk-label:hover label.sk-toggleable__label {background-color: #d4ebff;}#sk-container-id-1 div.sk-serial::before {content: \"\";position: absolute;border-left: 1px solid gray;box-sizing: border-box;top: 0;bottom: 0;left: 50%;z-index: 0;}#sk-container-id-1 div.sk-serial {display: flex;flex-direction: column;align-items: center;background-color: white;padding-right: 0.2em;padding-left: 0.2em;position: relative;}#sk-container-id-1 div.sk-item {position: relative;z-index: 1;}#sk-container-id-1 div.sk-parallel {display: flex;align-items: stretch;justify-content: center;background-color: white;position: relative;}#sk-container-id-1 div.sk-item::before, #sk-container-id-1 div.sk-parallel-item::before {content: \"\";position: absolute;border-left: 1px solid gray;box-sizing: border-box;top: 0;bottom: 0;left: 50%;z-index: -1;}#sk-container-id-1 div.sk-parallel-item {display: flex;flex-direction: column;z-index: 1;position: relative;background-color: white;}#sk-container-id-1 div.sk-parallel-item:first-child::after {align-self: flex-end;width: 50%;}#sk-container-id-1 div.sk-parallel-item:last-child::after {align-self: flex-start;width: 50%;}#sk-container-id-1 div.sk-parallel-item:only-child::after {width: 0;}#sk-container-id-1 div.sk-dashed-wrapped {border: 1px dashed gray;margin: 0 0.4em 0.5em 0.4em;box-sizing: border-box;padding-bottom: 0.4em;background-color: white;}#sk-container-id-1 div.sk-label label {font-family: monospace;font-weight: bold;display: inline-block;line-height: 1.2em;}#sk-container-id-1 div.sk-label-container {text-align: center;}#sk-container-id-1 div.sk-container {/* jupyter's `normalize.less` sets `[hidden] { display: none; }` but bootstrap.min.css set `[hidden] { display: none !important; }` so we also need the `!important` here to be able to override the default hidden behavior on the sphinx rendered scikit-learn.org. See: https://github.com/scikit-learn/scikit-learn/issues/21755 */display: inline-block !important;position: relative;}#sk-container-id-1 div.sk-text-repr-fallback {display: none;}</style><div id=\"sk-container-id-1\" class=\"sk-top-container\"><div class=\"sk-text-repr-fallback\"><pre>RandomForestClassifier()</pre><b>In a Jupyter environment, please rerun this cell to show the HTML representation or trust the notebook. <br />On GitHub, the HTML representation is unable to render, please try loading this page with nbviewer.org.</b></div><div class=\"sk-container\" hidden><div class=\"sk-item\"><div class=\"sk-estimator sk-toggleable\"><input class=\"sk-toggleable__control sk-hidden--visually\" id=\"sk-estimator-id-1\" type=\"checkbox\" checked><label for=\"sk-estimator-id-1\" class=\"sk-toggleable__label sk-toggleable__label-arrow\">RandomForestClassifier</label><div class=\"sk-toggleable__content\"><pre>RandomForestClassifier()</pre></div></div></div></div></div>"
      ],
      "text/plain": [
       "RandomForestClassifier()"
      ]
     },
     "execution_count": 18,
     "metadata": {},
     "output_type": "execute_result"
    }
   ],
   "source": [
    "rf = RandomForestClassifier()\n",
    "rf.fit(X_train, y_train)"
   ]
  },
  {
   "cell_type": "code",
   "execution_count": 19,
   "id": "2659d05e",
   "metadata": {},
   "outputs": [],
   "source": [
    "predictions = rf.predict(X_test)"
   ]
  },
  {
   "cell_type": "code",
   "execution_count": 21,
   "id": "0dd8caf8",
   "metadata": {},
   "outputs": [
    {
     "name": "stdout",
     "output_type": "stream",
     "text": [
      "              precision    recall  f1-score   support\n",
      "\n",
      "           0       0.94      0.94      0.94      2042\n",
      "           1       0.94      0.94      0.94      1985\n",
      "\n",
      "    accuracy                           0.94      4027\n",
      "   macro avg       0.94      0.94      0.94      4027\n",
      "weighted avg       0.94      0.94      0.94      4027\n",
      "\n"
     ]
    }
   ],
   "source": [
    "print(classification_report(y_test, predictions))"
   ]
  },
  {
   "cell_type": "code",
   "execution_count": 22,
   "id": "338240c6",
   "metadata": {},
   "outputs": [
    {
     "data": {
      "text/plain": [
       "<sklearn.metrics._plot.confusion_matrix.ConfusionMatrixDisplay at 0x1d90a03d6d0>"
      ]
     },
     "execution_count": 22,
     "metadata": {},
     "output_type": "execute_result"
    },
    {
     "data": {
      "text/plain": [
       "<Figure size 720x720 with 0 Axes>"
      ]
     },
     "metadata": {},
     "output_type": "display_data"
    },
    {
     "data": {
      "image/png": "[encoded data removed]",
      "text/plain": [
       "<Figure size 432x288 with 2 Axes>"
      ]
     },
     "metadata": {
      "needs_background": "light"
     },
     "output_type": "display_data"
    }
   ],
   "source": [
    "# plot confusion matrix\n",
    "fig = plt.figure(figsize=(10,10))\n",
    "\n",
    "confusion_mat = ConfusionMatrixDisplay(confusion_matrix(predictions, y_test), display_labels = ['Positive', 'Negative'])\n",
    "\n",
    "confusion_mat.plot()"
   ]
  },
  {
   "cell_type": "code",
   "execution_count": 29,
   "id": "f9d5aa53",
   "metadata": {},
   "outputs": [
    {
     "name": "stdout",
     "output_type": "stream",
     "text": [
      "0\n"
     ]
    }
   ],
   "source": [
    "test_word ='Donald J. Trump is scheduled to make a highly anticipated visit to an   church in Detroit on Saturday, the first such visit of his campaign. There, he will participate in a    session conducted by Bishop Wayne T. Jackson of the church, Great Faith Ministries International. Given the importance of the visit, the Trump team went so far as to script Mr. Trumpâ€™s answers to Bishop Jacksonâ€™s questions, which were submitted in advance. After this article was published on Thursday night, a campaign official said that Mr. Trump would also speak to the churchâ€™s congregation and then tour some neighborhoods with Ben Carson, a former presidential candidate and Detroit native. Below are excerpts from a draft of the script that was obtained by The New York Times. _____ Mr. Trump there is racial divide in our country and it is evident that the tension is boiling over. Case and point Reverend Pinckney in South Carolina was gunned down when a white young man came into their Bible Study and slaughtered the Reverend and eight other individuals because he wanted to start a race war. What would your administration do to bring down the racial tension that is in our Country? In the Bible Jesus said that a house divided cannot stand. Our best hope for erasing racial tensions in America is to work toward a   society. In business, we hire, retain and award based on merit. In society, however, we have divisions that can only be eliminated if we have equal opportunity and then equal access to programs and institutions that will lift all people in the country. We have to reform our tax system so that we can spur economic growth for the long haul. We have to have stronger enforcement of immigration laws. We have to renegotiate our trade deals so that we can bring advantage back to the American workforce. But perhaps most important is that we must provide equal opportunity for a quality education for all Americans. The higher the educational attainment, the greater the likelihood one can climb the economic ladder. We must bring school choice programs to our cities and we must get rid of Common Core. We must make sure that access, affordability and accountability are brought into our higher education system. Without a focus on educational outcomes for every American, we will perpetuate the permanent underclass that progressive policies have sustained. Republicans like me need to have the courage to speak the truth about where we are and what has to be done. We have to have the courage to go into communities and work with everyone there to make sure that our schools are good and that our children have access to the whatever educational situation they may need. This is not something one person can do, but it is something that we can do together. _____ Mr. Trump there is a perception that your administration is racist. With many of the African American voters their belief is that the Republican Party as a whole does not cater to African American needs. In 2008 and 2012 we had two Republican Candidates John McCain and Mitt Romney and neither one of them came to Detroit, or any urban area that I can remember to even address the concerns of our community. First I would like to commend you for coming to our community as a Republican Candidate. Second I need to know how would you change that perception in our community? The proof, as they say, will be in the pudding. Coming into a community is meaningless unless we can offer an alternative to the horrible progressive agenda that has perpetuated a permanent underclass in America. We need to be true to our word and offer all Americans more opportunities so that each and every one of them can reach their full potential. This means economic policies that will bring jobs back to America and will raise wages for all. This means working hard to provide as many educational options as possible to our parents and children. This means cleaning up drugs and making our neighborhoods and communities safer. We need to get people off welfare and back to work. We need to make sure that anyone who qualifies can go into a bank, get a loan and then start a business. We need to reduce regulations and expand options for people who want to be independent of government. We need to make sure that people can worship how they want and where they want without worrying that some federal agency is going to threaten the religious liberties. Republicans have better options. We just need to have the courage to present them with conviction. _____ Mr. Trump what is your vision for America? And specifically Black America? If you repeal Obama care what is your plan to provide health care and medicine to those who canâ€™t afford it, yet need it the most? As President, I must serve all Americans without regard to race, ethnicity or any other qualification. I must approach my task with the utmost wisdom and make sure that all Americans have opportunities to achieve to their potential. If we are to Make America Great Again, we must reduce, rather than highlight, issues of race in this country. I want to make race disappear as a factor in government and governance. Every individual, regardless of race or ethnicity, must have access to the full array of opportunities in America. My vision for America is that every citizen and legal resident of this nation will be able to stand side by side and be proud of the fact that they live in the greatest nation on earth. As for the Affordable Care Act, I will work to repeal the act and replace it with market driven solutions that will offer more access to healthcare at more affordable prices. Every American should be able to purchase health insurance across state lines, have health savings account that belong to them, have price transparency so they can shop for the best services at the best prices and know that they will not have to compete with those who are clogging the system simply because they are in this country illegally. We want to block grant Medicaid so that states can provide services closer to the people. We want to make sure that every American has great economic opportunity so that they can seek out their own health insurance and still be able to afford it. This approach will serve all Americans and will ensure that more Americans are covered by better insurance and healthcare options. _____ Mr. Trump I am a registered Democrat but I am an undecided voter in this election for 2016. It is not only myself but there has been a lot of Pastors and African Americans who have not made up their minds concerning who they are going to cast their vote for. The latest polls indicate that you have 1 percent of the African American vote. What can you say to undecided voters such as myself and others in the African American Community that will win our vote on November 8, 2016? And beyond winning, why is the African American vote important to you? All votes are important to me and my campaign. Your vote, your neighborâ€™s vote, the vote of every American is critical and I must do all I can to make sure you know that if you vote for me, you are voting for a stronger, more vibrant America. My policies offer you a clear choice. You can continue down the road of progressivism that has created a permanent underclass in this country that, unfortunately, includes far too many people of color. If you want a better America, you must break from the historical hold that Democrats have had on people of color and move to options that allow you to achieve your potential. This is all about opportunity  â€”   not   outcomes and promises of things to come that never materialize. The progressives have worked tirelessly to bring all Americans down to one level rather than allowing as many as possible to rise as high as possible. Education, jobs, religious liberty and protection of civil rights are the promises that I will keep, not just utter to gain favor. If you are interested in a greater America with more opportunity, liberty and prosperity, you must take a chance and walk over to my side. If you want a strong partner in this journey, you will vote for me. I will never let you down. By the way, my support is now up to 8% and climbing.'                       # input sequence\n",
    "tw = tfidf.transform([test_word])  # vectorize input  sequence\n",
    "prediction = rf.predict(tw).item()           # make predictions\n",
    "print(prediction)                            # print prediction"
   ]
  },
  {
   "cell_type": "code",
   "execution_count": 23,
   "id": "9d7eae83",
   "metadata": {},
   "outputs": [],
   "source": [
    "with open('vectorizer.pkl', 'wb') as vect:\n",
    "    pickle.dump(tfidf, vect)"
   ]
  },
  {
   "cell_type": "code",
   "execution_count": 26,
   "id": "e8a509fb",
   "metadata": {},
   "outputs": [],
   "source": [
    "with open('rfmodel.pkl', 'wb') as m:\n",
    "    pickle.dump(rf, m)"
   ]
  },
  {
   "cell_type": "code",
   "execution_count": null,
   "id": "d5ad864d",
   "metadata": {},
   "outputs": [],
   "source": []
  }
 ],
 "metadata": {
  "accelerator": "GPU",
  "colab": {
   "name": "Project_notebook.ipynb",
   "provenance": []
  },
  "gpuClass": "standard",
  "kernelspec": {
   "display_name": "Python 3 (ipykernel)",
   "language": "python",
   "name": "python3"
  },
  "language_info": {
   "codemirror_mode": {
    "name": "ipython",
    "version": 3
   },
   "file_extension": ".py",
   "mimetype": "text/x-python",
   "name": "python",
   "nbconvert_exporter": "python",
   "pygments_lexer": "ipython3",
   "version": "3.9.12"
  },
  "vscode": {
   "interpreter": {
    "hash": "71d2bfc91d67c9bcb08fdd07c6953cf7c1f0d00e5a6a61ee7413c27e7f19af85"
   }
  }
 },
 "nbformat": 4,
 "nbformat_minor": 5
}
